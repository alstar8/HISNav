{
 "cells": [
  {
   "cell_type": "code",
   "execution_count": null,
   "metadata": {},
   "outputs": [],
   "source": [
    "import h5py\n",
    "import matplotlib\n",
    "import matplotlib.pyplot as plt\n",
    "import matplotlib.colors as mcolors\n",
    "from matplotlib.colors import LinearSegmentedColormap\n",
    "import numpy as np\n",
    "import os\n",
    "import cv2\n",
    "import ast\n",
    "from scipy.spatial.transform import Rotation as R\n",
    "from tqdm import tqdm\n",
    "from PIL import Image"
   ]
  },
  {
   "cell_type": "code",
   "execution_count": null,
   "metadata": {},
   "outputs": [],
   "source": [
    "dir_with_hdf5_datasets = '/disks/hdd6/datasets/Habitat/train_depth_0_100/dataset_hdf5'"
   ]
  },
  {
   "cell_type": "code",
   "execution_count": null,
   "metadata": {},
   "outputs": [],
   "source": [
    "filename_hdf5_dataset_list = os.listdir(dir_with_hdf5_datasets)"
   ]
  },
  {
   "cell_type": "code",
   "execution_count": null,
   "metadata": {},
   "outputs": [],
   "source": [
    "T = np.array(dtype=np.float32, object=[\n",
    "    [1, 0, 0, 0],\n",
    "    [0, -1, 0, 0],\n",
    "    [1, 0, -1, 0],\n",
    "    [0, 0, 0, 1]\n",
    "])\n",
    "# T = np.eye(4)\n",
    "T_inv = np.linalg.inv(T)\n",
    "r = R.from_rotvec(np.pi * np.array([1, 0, 0]))"
   ]
  },
  {
   "cell_type": "code",
   "execution_count": null,
   "metadata": {},
   "outputs": [],
   "source": [
    "def action_to_mat44(action, rot_delta, pos_delta):\n",
    "    if action == 0:\n",
    "        a = 0\n",
    "        d = 0\n",
    "    if action == 1:\n",
    "        a = 0\n",
    "        d = pos_delta\n",
    "    elif action == 2:\n",
    "        a = -rot_delta\n",
    "        d = 0\n",
    "    elif action == 3:\n",
    "        a = rot_delta\n",
    "        d = 0\n",
    "    a = np.pi * a / 180\n",
    "    d /= 100\n",
    "    T = np.array([\n",
    "        [np.cos(a), 0, np.sin(a), 0],\n",
    "        [0, 1, 0, 0],\n",
    "        [-np.sin(a), 0, np.cos(a), d],\n",
    "        [0, 0, 0, 1]\n",
    "    ])\n",
    "    return T"
   ]
  },
  {
   "cell_type": "code",
   "execution_count": null,
   "metadata": {},
   "outputs": [],
   "source": [
    "for filename_hdf5_dataset in tqdm(filename_hdf5_dataset_list):\n",
    "    rot_delta, pos_delta = map(float, filename_hdf5_dataset.split('_')[1:3])\n",
    "    \n",
    "    file = h5py.File(os.path.join(dir_with_hdf5_datasets, filename_hdf5_dataset), 'r')\n",
    "    output_path = dir_with_hdf5_datasets[:dir_with_hdf5_datasets.rfind('/')]+'/temp_datasets/'+ \\\n",
    "                  filename_hdf5_dataset[:filename_hdf5_dataset.rfind('.')]\n",
    "    \n",
    "    rgb = file['rgb']\n",
    "    depth = file['depth']\n",
    "    semantic = file['semantic']\n",
    "    objectgoal = file['objectgoal']\n",
    "    compass = file['compass']\n",
    "    gps = file['gps']\n",
    "    heading = file['heading']\n",
    "    top_down_map = file['top_down_map']\n",
    "    fog_of_war_mask = file['fog_of_war_mask']\n",
    "    agent_map_coord = file['agent_map_coord']\n",
    "    agent_angle = file['agent_angle']\n",
    "    mapping = np.array(file['mapping'])\n",
    "    index_to_title_map = ast.literal_eval(str(np.array(file['index_to_title_map']))[2:-1])\n",
    "    positions = file['position']\n",
    "    rotations = file['rotation']\n",
    "    actions = file['action']\n",
    "    \n",
    "    os.makedirs(os.path.join(output_path,'rgb'), exist_ok=True)\n",
    "    os.makedirs(os.path.join(output_path,'depth'), exist_ok=True)\n",
    "    depth_file = open(os.path.join(output_path, 'depth.txt'), 'w')\n",
    "    rgb_file = open(os.path.join(output_path, 'rgb.txt'), 'w')\n",
    "    gt_filename = os.path.join('/disks/hdd6/datasets/Habitat/train_depth_0_100/temp_gt',filename_hdf5_dataset.split('/')[-1])\n",
    "    gt_filename = gt_filename[:gt_filename.rfind('.')] + '.txt'\n",
    "    gt_file = open(gt_filename, 'w')\n",
    "    rgb_file.close()\n",
    "    depth_file.close()\n",
    "    gt_file.close()\n",
    "    depth_file = open(os.path.join(output_path, 'depth.txt'), 'a')\n",
    "    rgb_file = open(os.path.join(output_path, 'rgb.txt'), 'a')\n",
    "    gt_file = open(gt_filename, 'a')\n",
    "    action_file = open(os.path.join(output_path, 'control.txt'), 'w')\n",
    "    for i in range(3):\n",
    "        depth_file.write('ignore\\n')\n",
    "        rgb_file.write('ignore\\n')\n",
    "    for i in range(0, len(rgb)):\n",
    "        cv2.imwrite(os.path.join(output_path, 'rgb', str(i).zfill(6)+'.png'), rgb[i])\n",
    "        \n",
    "        depth_image = 100 * depth[i]\n",
    "        \n",
    "        cv2.imwrite(os.path.join(output_path, 'depth', str(i).zfill(6)+'.exr'), depth_image)\n",
    "        rgb_file.write('{:.3f} '.format(i/10))\n",
    "        rgb_file.write('rgb/'+str(i).zfill(6)+'.png\\n')\n",
    "        depth_file.write('{:.3f} '.format(i/10))\n",
    "        depth_file.write('depth/'+str(i).zfill(6)+'.exr\\n')\n",
    "        \n",
    "        X, Y, Z = positions[i]\n",
    "        w, x, y, z = rotations[i]\n",
    "        \n",
    "        x, y, z, w = (R.from_quat([x, y, z, w]) * r).as_quat()\n",
    "        \n",
    "        gt_file.write('{:.3f} {:.8e} {:.8e} {:.8e} {:.8e} {:.8e} {:.8e} {:.8e}\\n'\\\n",
    "              .format(i/10, X, Y, Z, x, y, z, w))\n",
    "        \n",
    "        action_file.write('{:.3f} '.format(i/10))\n",
    "        action_file.write(('{:.8e} ' * 12 + '\\n').format(*action_to_mat44(actions[i - 1], rot_delta, pos_delta)[:3].flatten()))\n",
    "    \n",
    "    rgb_file.close()\n",
    "    depth_file.close()\n",
    "    gt_file.close()\n",
    "    action_file.close()"
   ]
  },
  {
   "cell_type": "code",
   "execution_count": null,
   "metadata": {},
   "outputs": [],
   "source": []
  }
 ],
 "metadata": {
  "kernelspec": {
   "display_name": "Python 3",
   "language": "python",
   "name": "python3"
  },
  "language_info": {
   "codemirror_mode": {
    "name": "ipython",
    "version": 3
   },
   "file_extension": ".py",
   "mimetype": "text/x-python",
   "name": "python",
   "nbconvert_exporter": "python",
   "pygments_lexer": "ipython3",
   "version": "3.7.0"
  }
 },
 "nbformat": 4,
 "nbformat_minor": 4
}
